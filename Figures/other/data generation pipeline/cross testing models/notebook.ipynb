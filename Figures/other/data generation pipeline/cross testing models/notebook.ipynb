{
 "cells": [
  {
   "cell_type": "code",
   "execution_count": 1,
   "metadata": {},
   "outputs": [],
   "source": [
    "import sys\n",
    "import os\n",
    "\n",
    "parent_dir = os.path.abspath(os.path.join(os.path.abspath(''), os.pardir, os.pardir, os.pardir))\n",
    "sys.path.append(parent_dir)\n",
    "\n",
    "from misc.vae import load_VAE\n",
    "from vae import FluxVAE\n",
    "\n",
    "import pandas as pd\n",
    "import numpy as np\n",
    "import matplotlib.pyplot as plt\n",
    "\n",
    "from mpl_toolkits.axes_grid1.axes_divider import make_axes_locatable"
   ]
  },
  {
   "cell_type": "markdown",
   "metadata": {},
   "source": [
    "# Data generation"
   ]
  },
  {
   "cell_type": "code",
   "execution_count": 2,
   "metadata": {},
   "outputs": [
    {
     "name": "stdout",
     "output_type": "stream",
     "text": [
      "Loading model...\n",
      "Encoder path -> models/k100/encoder_testmin.pth\n",
      "Decoder path -> models/k100/decoder_testmin.pth\n",
      "Desc path    -> models/k100/vae_desc_testmin.json\n"
     ]
    },
    {
     "name": "stdout",
     "output_type": "stream",
     "text": [
      "Loading model...\n",
      "Encoder path -> models/k250/encoder_testmin.pth\n",
      "Decoder path -> models/k250/decoder_testmin.pth\n",
      "Desc path    -> models/k250/vae_desc_testmin.json\n",
      "Loading model...\n",
      "Encoder path -> models/k500/encoder_testmin.pth\n",
      "Decoder path -> models/k500/decoder_testmin.pth\n",
      "Desc path    -> models/k500/vae_desc_testmin.json\n",
      "Loading model...\n",
      "Encoder path -> models/k1000/encoder_testmin.pth\n",
      "Decoder path -> models/k1000/decoder_testmin.pth\n",
      "Desc path    -> models/k1000/vae_desc_testmin.json\n",
      "Loading model...\n",
      "Encoder path -> models/k2500/encoder_testmin.pth\n",
      "Decoder path -> models/k2500/decoder_testmin.pth\n",
      "Desc path    -> models/k2500/vae_desc_testmin.json\n"
     ]
    },
    {
     "data": {
      "text/plain": [
       "{100: <vae.FluxVAE at 0x7fb44d400610>,\n",
       " 250: <vae.FluxVAE at 0x7fb44d3b7c10>,\n",
       " 500: <vae.FluxVAE at 0x7fb44d4003d0>,\n",
       " 1000: <vae.FluxVAE at 0x7fb35601b070>,\n",
       " 2500: <vae.FluxVAE at 0x7fb44c256c20>}"
      ]
     },
     "execution_count": 2,
     "metadata": {},
     "output_type": "execute_result"
    }
   ],
   "source": [
    "# This just sets up the code to load a VAE (which is already implemented in ./misc/)\n",
    "\n",
    "def get_vae(k):\n",
    "    return load_VAE(f\"models/k{k}/\")\n",
    "\n",
    "ks = [100, 250, 500, 1000, 2500]\n",
    "\n",
    "vaes = {\n",
    "    k : get_vae(k)\n",
    "    for k in ks\n",
    "}\n",
    "\n",
    "vaes"
   ]
  },
  {
   "cell_type": "code",
   "execution_count": 3,
   "metadata": {},
   "outputs": [],
   "source": [
    "# The samples folder is set up to contain samples files created using the flux_processor (in ./tools/)\n",
    "\n",
    "def load_data(k):\n",
    "    return pd.read_csv(f\"samples/k{k}_test_pre.csv\")"
   ]
  },
  {
   "cell_type": "code",
   "execution_count": 4,
   "metadata": {},
   "outputs": [],
   "source": [
    "# This used the get_loss function implemented in FluxVAE. Since we have already taking V using the VAE's \n",
    "# reaction names there is no need to find a new conversion matrix as in the rest of the codebase. Similarly,\n",
    "# the stoichiometric loss functionality is being ignored here so S is simply passed as a 0 matrix.\n",
    "\n",
    "def get_loss(df, vae : FluxVAE):\n",
    "    n_in = len(vae.reaction_names)\n",
    "    V = df[vae.reaction_names].values\n",
    "    C = np.eye(5399)\n",
    "    S = np.eye(5399) * 0\n",
    "    _, blame = vae.get_loss(V, C, S)\n",
    "    return blame"
   ]
  },
  {
   "cell_type": "code",
   "execution_count": 5,
   "metadata": {},
   "outputs": [],
   "source": [
    "loss_types = [\"loss\", \"divergence_loss\", \"reconstruction_loss\"]\n",
    "\n",
    "columns = sum([[\n",
    "        f\"k{k}_{loss_type}\"\n",
    "    for loss_type in loss_types\n",
    "    ]\n",
    "    for k in ks\n",
    "], start=[])\n"
   ]
  },
  {
   "cell_type": "code",
   "execution_count": 6,
   "metadata": {},
   "outputs": [
    {
     "name": "stdout",
     "output_type": "stream",
     "text": [
      "test_k 100\n",
      "train_k 100\n",
      "train_k 250\n",
      "train_k 500\n",
      "train_k 1000\n",
      "train_k 2500\n",
      "test_k 250\n",
      "train_k 100\n",
      "train_k 250\n",
      "train_k 500\n",
      "train_k 1000\n",
      "train_k 2500\n",
      "test_k 500\n",
      "train_k 100\n",
      "train_k 250\n",
      "train_k 500\n",
      "train_k 1000\n",
      "train_k 2500\n",
      "test_k 1000\n",
      "train_k 100\n",
      "train_k 250\n",
      "train_k 500\n",
      "train_k 1000\n",
      "train_k 2500\n",
      "test_k 2500\n",
      "train_k 100\n",
      "train_k 250\n",
      "train_k 500\n",
      "train_k 1000\n",
      "train_k 2500\n"
     ]
    }
   ],
   "source": [
    "# This simply find the loss for each VAE and sample (differentiated in both cases by step-size k).\n",
    "\n",
    "data = np.zeros((len(ks), len(columns)))\n",
    "\n",
    "for j, test_k in enumerate(ks):\n",
    "    print(\"test_k\", test_k)\n",
    "    test_df = load_data(test_k)\n",
    "    for i, train_k in enumerate(ks):\n",
    "        print(\"train_k\", train_k)\n",
    "        blame = get_loss(test_df, vaes[train_k])\n",
    "        for l in range(3): \n",
    "            data[i,3*j + l] = blame[loss_types[l]]\n",
    "\n",
    "df = pd.DataFrame(data, columns=columns)"
   ]
  },
  {
   "cell_type": "code",
   "execution_count": null,
   "metadata": {},
   "outputs": [],
   "source": [
    "# For a while a constant term wasn't included in the loss, this was uncommented for that case.\n",
    "\n",
    "#for col in columns:\n",
    "#    if \"divergence\" in col or \"0_loss\" in col:\n",
    "#        df[col] -= 32 / 2"
   ]
  },
  {
   "cell_type": "code",
   "execution_count": 8,
   "metadata": {},
   "outputs": [],
   "source": [
    "# The dataset is saved to speed up future analysis (i.e. plotting).\n",
    "\n",
    "df.to_csv(\"k_test_train_losses.csv\")"
   ]
  },
  {
   "cell_type": "markdown",
   "metadata": {},
   "source": [
    "# Plotting\n",
    "This section contains the plotting code."
   ]
  },
  {
   "cell_type": "code",
   "execution_count": 10,
   "metadata": {},
   "outputs": [],
   "source": [
    "df = pd.read_csv(\"k_test_train_losses.csv\")"
   ]
  },
  {
   "cell_type": "code",
   "execution_count": 11,
   "metadata": {},
   "outputs": [],
   "source": [
    "loss_cols = [col for col in columns if \"0_loss\" in col]\n",
    "div_cols = [col for col in columns if \"divergence\" in col]\n",
    "rec_cols = [col for col in columns if \"reconstruction\" in col]"
   ]
  },
  {
   "cell_type": "code",
   "execution_count": 12,
   "metadata": {},
   "outputs": [
    {
     "data": {
      "image/png": "[encoded data removed]",
      "text/plain": [
       "<Figure size 800x300 with 3 Axes>"
      ]
     },
     "metadata": {},
     "output_type": "display_data"
    }
   ],
   "source": [
    "fontsize=12\n",
    "\n",
    "fig, (ax1, ax2) = plt.subplots(1, 2, figsize=(8, 3))\n",
    "\n",
    "x = np.arange(len(ks))\n",
    "y = np.arange(len(ks))\n",
    "\n",
    "def hm_plot(ax):\n",
    "    im = ax.imshow(df[loss_cols].values, cmap='RdYlGn_r', vmin=0)\n",
    "\n",
    "    ax.set_xlabel(\"test step-size\", fontsize=fontsize)\n",
    "    ax.set_ylabel(\"train step-size\", fontsize=fontsize)\n",
    "\n",
    "\n",
    "    ax.set_xticks(x, ks)\n",
    "    ax.set_yticks(y, ks)\n",
    "\n",
    "    loc = make_axes_locatable(ax)\n",
    "    cax = loc.append_axes(\"right\", size=\"10%\", pad=\"5%\")\n",
    "\n",
    "    cb = plt.colorbar(im, cax=cax)\n",
    "    cb.set_label(\"test loss\", fontsize=fontsize)\n",
    "\n",
    "def line_plot(ax):\n",
    "    for i in range(len(ks)):\n",
    "        ax.plot(np.arange(len(ks)), df.iloc[i][loss_cols].values, label=ks[i])\n",
    "\n",
    "    #ax.legend()\n",
    "    ax.set_xlabel(\"test step size\", fontsize=fontsize)\n",
    "    ax.set_ylabel(\"test loss\", fontsize=fontsize)\n",
    "    ax.spines[[\"top\", \"right\"]].set_visible(False)\n",
    "    ax.set_ylim([0, 3100])\n",
    "    ax.set_xticks(x, ks)\n",
    "\n",
    "line_plot(ax1)\n",
    "hm_plot(ax2)\n",
    "\n",
    "fig.tight_layout()\n",
    "\n",
    "fig.savefig(\"cross_k_test_loss.png\", dpi=600)"
   ]
  },
  {
   "cell_type": "code",
   "execution_count": null,
   "metadata": {},
   "outputs": [],
   "source": []
  }
 ],
 "metadata": {
  "kernelspec": {
   "display_name": "venv",
   "language": "python",
   "name": "python3"
  },
  "language_info": {
   "codemirror_mode": {
    "name": "ipython",
    "version": 3
   },
   "file_extension": ".py",
   "mimetype": "text/x-python",
   "name": "python",
   "nbconvert_exporter": "python",
   "pygments_lexer": "ipython3",
   "version": "3.10.12"
  }
 },
 "nbformat": 4,
 "nbformat_minor": 2
}
