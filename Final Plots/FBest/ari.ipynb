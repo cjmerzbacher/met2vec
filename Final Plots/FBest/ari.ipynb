{
 "cells": [
  {
   "cell_type": "code",
   "execution_count": 1,
   "metadata": {},
   "outputs": [],
   "source": [
    "import pandas as pd\n",
    "import matplotlib.pyplot as plt"
   ]
  },
  {
   "cell_type": "code",
   "execution_count": 4,
   "metadata": {},
   "outputs": [
    {
     "data": {
      "text/html": [
       "<div>\n",
       "<style scoped>\n",
       "    .dataframe tbody tr th:only-of-type {\n",
       "        vertical-align: middle;\n",
       "    }\n",
       "\n",
       "    .dataframe tbody tr th {\n",
       "        vertical-align: top;\n",
       "    }\n",
       "\n",
       "    .dataframe thead th {\n",
       "        text-align: right;\n",
       "    }\n",
       "</style>\n",
       "<table border=\"1\" class=\"dataframe\">\n",
       "  <thead>\n",
       "    <tr style=\"text-align: right;\">\n",
       "      <th></th>\n",
       "      <th>pre</th>\n",
       "      <th>pre_std</th>\n",
       "      <th>emb</th>\n",
       "      <th>emb_std</th>\n",
       "      <th>rec</th>\n",
       "      <th>rec_std</th>\n",
       "      <th>origional</th>\n",
       "      <th>origional_std</th>\n",
       "      <th>stage</th>\n",
       "    </tr>\n",
       "  </thead>\n",
       "  <tbody>\n",
       "    <tr>\n",
       "      <th>0</th>\n",
       "      <td>0.690145</td>\n",
       "      <td>0.076165</td>\n",
       "      <td>0.526928</td>\n",
       "      <td>0.044389</td>\n",
       "      <td>0.324602</td>\n",
       "      <td>0.026295</td>\n",
       "      <td>0.784965</td>\n",
       "      <td>0.073462</td>\n",
       "      <td>pre</td>\n",
       "    </tr>\n",
       "    <tr>\n",
       "      <th>1</th>\n",
       "      <td>0.516008</td>\n",
       "      <td>0.045090</td>\n",
       "      <td>0.669393</td>\n",
       "      <td>0.057840</td>\n",
       "      <td>0.298324</td>\n",
       "      <td>0.022705</td>\n",
       "      <td>0.584604</td>\n",
       "      <td>0.028146</td>\n",
       "      <td>emb</td>\n",
       "    </tr>\n",
       "    <tr>\n",
       "      <th>2</th>\n",
       "      <td>0.322877</td>\n",
       "      <td>0.029306</td>\n",
       "      <td>0.296606</td>\n",
       "      <td>0.021549</td>\n",
       "      <td>0.551252</td>\n",
       "      <td>0.067316</td>\n",
       "      <td>0.363789</td>\n",
       "      <td>0.022873</td>\n",
       "      <td>rec</td>\n",
       "    </tr>\n",
       "    <tr>\n",
       "      <th>3</th>\n",
       "      <td>0.787876</td>\n",
       "      <td>0.058980</td>\n",
       "      <td>0.588522</td>\n",
       "      <td>0.031114</td>\n",
       "      <td>0.365353</td>\n",
       "      <td>0.024646</td>\n",
       "      <td>1.000000</td>\n",
       "      <td>0.000000</td>\n",
       "      <td>origional</td>\n",
       "    </tr>\n",
       "  </tbody>\n",
       "</table>\n",
       "</div>"
      ],
      "text/plain": [
       "        pre   pre_std       emb   emb_std       rec   rec_std  origional  \\\n",
       "0  0.690145  0.076165  0.526928  0.044389  0.324602  0.026295   0.784965   \n",
       "1  0.516008  0.045090  0.669393  0.057840  0.298324  0.022705   0.584604   \n",
       "2  0.322877  0.029306  0.296606  0.021549  0.551252  0.067316   0.363789   \n",
       "3  0.787876  0.058980  0.588522  0.031114  0.365353  0.024646   1.000000   \n",
       "\n",
       "   origional_std      stage  \n",
       "0       0.073462        pre  \n",
       "1       0.028146        emb  \n",
       "2       0.022873        rec  \n",
       "3       0.000000  origional  "
      ]
     },
     "execution_count": 4,
     "metadata": {},
     "output_type": "execute_result"
    }
   ],
   "source": [
    "ari_df = pd.read_csv(\"./ari_kmeans.csv\")\n",
    "ari_df"
   ]
  },
  {
   "cell_type": "code",
   "execution_count": 19,
   "metadata": {},
   "outputs": [
    {
     "data": {
      "text/html": [
       "<div>\n",
       "<style scoped>\n",
       "    .dataframe tbody tr th:only-of-type {\n",
       "        vertical-align: middle;\n",
       "    }\n",
       "\n",
       "    .dataframe tbody tr th {\n",
       "        vertical-align: top;\n",
       "    }\n",
       "\n",
       "    .dataframe thead th {\n",
       "        text-align: right;\n",
       "    }\n",
       "</style>\n",
       "<table border=\"1\" class=\"dataframe\">\n",
       "  <thead>\n",
       "    <tr style=\"text-align: right;\">\n",
       "      <th></th>\n",
       "      <th>pre</th>\n",
       "      <th>emb</th>\n",
       "      <th>rec</th>\n",
       "      <th>origional</th>\n",
       "    </tr>\n",
       "  </thead>\n",
       "  <tbody>\n",
       "    <tr>\n",
       "      <th>0</th>\n",
       "      <td>0.690145</td>\n",
       "      <td>0.526928</td>\n",
       "      <td>0.324602</td>\n",
       "      <td>0.784965</td>\n",
       "    </tr>\n",
       "    <tr>\n",
       "      <th>1</th>\n",
       "      <td>0.516008</td>\n",
       "      <td>0.669393</td>\n",
       "      <td>0.298324</td>\n",
       "      <td>0.584604</td>\n",
       "    </tr>\n",
       "    <tr>\n",
       "      <th>2</th>\n",
       "      <td>0.322877</td>\n",
       "      <td>0.296606</td>\n",
       "      <td>0.551252</td>\n",
       "      <td>0.363789</td>\n",
       "    </tr>\n",
       "    <tr>\n",
       "      <th>3</th>\n",
       "      <td>0.787876</td>\n",
       "      <td>0.588522</td>\n",
       "      <td>0.365353</td>\n",
       "      <td>1.000000</td>\n",
       "    </tr>\n",
       "  </tbody>\n",
       "</table>\n",
       "</div>"
      ],
      "text/plain": [
       "        pre       emb       rec  origional\n",
       "0  0.690145  0.526928  0.324602   0.784965\n",
       "1  0.516008  0.669393  0.298324   0.584604\n",
       "2  0.322877  0.296606  0.551252   0.363789\n",
       "3  0.787876  0.588522  0.365353   1.000000"
      ]
     },
     "execution_count": 19,
     "metadata": {},
     "output_type": "execute_result"
    },
    {
     "data": {
      "image/png": "[encoded data removed]",
      "text/plain": [
       "<Figure size 640x480 with 1 Axes>"
      ]
     },
     "metadata": {},
     "output_type": "display_data"
    }
   ],
   "source": [
    "fig, ax = plt.subplots(1,1)\n",
    "\n",
    "columns_order = ['pre', 'emb', 'rec', 'origional']\n",
    "data = ari_df[columns_order] \n",
    "\n",
    "ax.imshow(data, vmin=0, vmax=1)\n",
    "ax.set_xticks(range(4), columns_order)\n",
    "ax.set_yticks(range(4), ari_df['stage'])\n",
    "\n",
    "for i in range(4):\n",
    "    for j in range(4):\n",
    "        value = ari_df.values[j,i*2]\n",
    "        text =  f\"{value:.2f}\"\n",
    "        color = 'w' if value < 0.8 else 'black'\n",
    "        #text += f\"$\\\\pm${ari_df.values[j,i*2 + 1]:.2f}\"\n",
    "        ax.text(i, j, text, ha='center', va='center', color=color)\n",
    "\n",
    "ax.set_title(\"ARI Kmeans\")"
   ]
  },
  {
   "cell_type": "code",
   "execution_count": null,
   "metadata": {},
   "outputs": [],
   "source": []
  }
 ],
 "metadata": {
  "kernelspec": {
   "display_name": "venv",
   "language": "python",
   "name": "python3"
  },
  "language_info": {
   "codemirror_mode": {
    "name": "ipython",
    "version": 3
   },
   "file_extension": ".py",
   "mimetype": "text/x-python",
   "name": "python",
   "nbconvert_exporter": "python",
   "pygments_lexer": "ipython3",
   "version": "3.11.2"
  }
 },
 "nbformat": 4,
 "nbformat_minor": 2
}
