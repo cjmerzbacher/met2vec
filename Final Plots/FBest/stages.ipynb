{
 "cells": [
  {
   "cell_type": "code",
   "execution_count": 5,
   "metadata": {},
   "outputs": [],
   "source": [
    "import pandas as pd\n",
    "import matplotlib.pyplot as plt\n",
    "import distinctipy as dpy"
   ]
  },
  {
   "cell_type": "code",
   "execution_count": 3,
   "metadata": {},
   "outputs": [
    {
     "data": {
      "text/html": [
       "<div>\n",
       "<style scoped>\n",
       "    .dataframe tbody tr th:only-of-type {\n",
       "        vertical-align: middle;\n",
       "    }\n",
       "\n",
       "    .dataframe tbody tr th {\n",
       "        vertical-align: top;\n",
       "    }\n",
       "\n",
       "    .dataframe thead th {\n",
       "        text-align: right;\n",
       "    }\n",
       "</style>\n",
       "<table border=\"1\" class=\"dataframe\">\n",
       "  <thead>\n",
       "    <tr style=\"text-align: right;\">\n",
       "      <th></th>\n",
       "      <th>tsne0</th>\n",
       "      <th>tsne1</th>\n",
       "      <th>label</th>\n",
       "    </tr>\n",
       "  </thead>\n",
       "  <tbody>\n",
       "    <tr>\n",
       "      <th>0</th>\n",
       "      <td>-50.540855</td>\n",
       "      <td>-9.327467</td>\n",
       "      <td>cerebral cortex - glial cells</td>\n",
       "    </tr>\n",
       "    <tr>\n",
       "      <th>1</th>\n",
       "      <td>-50.545155</td>\n",
       "      <td>-9.329161</td>\n",
       "      <td>cerebral cortex - glial cells</td>\n",
       "    </tr>\n",
       "    <tr>\n",
       "      <th>2</th>\n",
       "      <td>-50.551470</td>\n",
       "      <td>-9.339236</td>\n",
       "      <td>cerebral cortex - glial cells</td>\n",
       "    </tr>\n",
       "    <tr>\n",
       "      <th>3</th>\n",
       "      <td>-50.553170</td>\n",
       "      <td>-9.338608</td>\n",
       "      <td>cerebral cortex - glial cells</td>\n",
       "    </tr>\n",
       "    <tr>\n",
       "      <th>4</th>\n",
       "      <td>-50.549408</td>\n",
       "      <td>-9.336001</td>\n",
       "      <td>cerebral cortex - glial cells</td>\n",
       "    </tr>\n",
       "    <tr>\n",
       "      <th>...</th>\n",
       "      <td>...</td>\n",
       "      <td>...</td>\n",
       "      <td>...</td>\n",
       "    </tr>\n",
       "    <tr>\n",
       "      <th>15995</th>\n",
       "      <td>18.850157</td>\n",
       "      <td>-21.504972</td>\n",
       "      <td>breast - adipocytes</td>\n",
       "    </tr>\n",
       "    <tr>\n",
       "      <th>15996</th>\n",
       "      <td>18.840118</td>\n",
       "      <td>-21.405659</td>\n",
       "      <td>breast - adipocytes</td>\n",
       "    </tr>\n",
       "    <tr>\n",
       "      <th>15997</th>\n",
       "      <td>18.905136</td>\n",
       "      <td>-21.260010</td>\n",
       "      <td>breast - adipocytes</td>\n",
       "    </tr>\n",
       "    <tr>\n",
       "      <th>15998</th>\n",
       "      <td>18.920190</td>\n",
       "      <td>-21.270819</td>\n",
       "      <td>breast - adipocytes</td>\n",
       "    </tr>\n",
       "    <tr>\n",
       "      <th>15999</th>\n",
       "      <td>18.832539</td>\n",
       "      <td>-21.386805</td>\n",
       "      <td>breast - adipocytes</td>\n",
       "    </tr>\n",
       "  </tbody>\n",
       "</table>\n",
       "<p>16000 rows × 3 columns</p>\n",
       "</div>"
      ],
      "text/plain": [
       "           tsne0      tsne1                          label\n",
       "0     -50.540855  -9.327467  cerebral cortex - glial cells\n",
       "1     -50.545155  -9.329161  cerebral cortex - glial cells\n",
       "2     -50.551470  -9.339236  cerebral cortex - glial cells\n",
       "3     -50.553170  -9.338608  cerebral cortex - glial cells\n",
       "4     -50.549408  -9.336001  cerebral cortex - glial cells\n",
       "...          ...        ...                            ...\n",
       "15995  18.850157 -21.504972            breast - adipocytes\n",
       "15996  18.840118 -21.405659            breast - adipocytes\n",
       "15997  18.905136 -21.260010            breast - adipocytes\n",
       "15998  18.920190 -21.270819            breast - adipocytes\n",
       "15999  18.832539 -21.386805            breast - adipocytes\n",
       "\n",
       "[16000 rows x 3 columns]"
      ]
     },
     "execution_count": 3,
     "metadata": {},
     "output_type": "execute_result"
    }
   ],
   "source": [
    "\n",
    "df_pre = pd.read_csv(\"./pre_tsne_emb46.csv\")\n",
    "df_emb = pd.read_csv(\"./emb_tsne_emb46.csv\")\n",
    "df_rec = pd.read_csv(\"./rec_tsne_emb46.csv\")\n",
    "\n",
    "df_pre"
   ]
  },
  {
   "cell_type": "code",
   "execution_count": 4,
   "metadata": {},
   "outputs": [
    {
     "data": {
      "image/png": "[encoded data removed]",
      "text/plain": [
       "<Figure size 1200x500 with 3 Axes>"
      ]
     },
     "metadata": {},
     "output_type": "display_data"
    }
   ],
   "source": [
    "fig, (ax1, ax2, ax3) = plt.subplots(1, 3, figsize=(12, 5))\n",
    "\n",
    "cell_types = df_pre['label'].unique()\n",
    "n_types = len(cell_types)\n",
    "cell_colors = dpy.get_colors(n_types)\n",
    "\n",
    "def plot(df, ax):\n",
    "    \n",
    "\n",
    "plot(ax1, df_pre)\n",
    "plot(ax2, df_emb)\n",
    "plot(ax3, df_rec)"
   ]
  },
  {
   "cell_type": "code",
   "execution_count": null,
   "metadata": {},
   "outputs": [],
   "source": []
  }
 ],
 "metadata": {
  "kernelspec": {
   "display_name": "venv",
   "language": "python",
   "name": "python3"
  },
  "language_info": {
   "codemirror_mode": {
    "name": "ipython",
    "version": 3
   },
   "file_extension": ".py",
   "mimetype": "text/x-python",
   "name": "python",
   "nbconvert_exporter": "python",
   "pygments_lexer": "ipython3",
   "version": "3.11.2"
  }
 },
 "nbformat": 4,
 "nbformat_minor": 2
}
