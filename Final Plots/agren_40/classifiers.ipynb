{
 "cells": [
  {
   "cell_type": "code",
   "execution_count": 1,
   "metadata": {},
   "outputs": [],
   "source": [
    "import pandas as pd\n",
    "import numpy as np\n",
    "import os\n",
    "\n",
    "from sklearn.neighbors import NearestCentroid\n",
    "from sklearn.ensemble import RandomForestClassifier\n",
    "from sklearn.neural_network import MLPClassifier\n",
    "\n",
    "from tqdm import tqdm, trange"
   ]
  },
  {
   "cell_type": "code",
   "execution_count": 2,
   "metadata": {},
   "outputs": [],
   "source": [
    "test_path = \"./agren_40_long/emb_test.csv\"\n",
    "train_path = \"./agren_40_long/emb.csv\"\n",
    "\n",
    "save_path = \"./agren_40_long/emb_class_acc.csv\"\n",
    "n = 40"
   ]
  },
  {
   "cell_type": "code",
   "execution_count": 3,
   "metadata": {},
   "outputs": [],
   "source": [
    "df_test = pd.read_csv(test_path)\n",
    "df_train = pd.read_csv(train_path)\n",
    "\n",
    "labels = sorted(df_train['label'].unique())\n",
    "\n",
    "df_train['label_n'] = df_train['label'].map(labels.index)\n",
    "df_test['label_n'] = df_test['label'].map(labels.index)\n",
    "\n",
    "classes = sorted(df_test['label_n'].unique())"
   ]
  },
  {
   "cell_type": "code",
   "execution_count": 4,
   "metadata": {},
   "outputs": [],
   "source": [
    "X_cols = sorted(filter(lambda c: \"emb\" in c, df_train.columns))\n",
    "y_col = \"label_n\""
   ]
  },
  {
   "cell_type": "code",
   "execution_count": 5,
   "metadata": {},
   "outputs": [],
   "source": [
    "X_train = np.array(df_train[X_cols].values, dtype=float)\n",
    "y_train = np.array(df_train[y_col].values, dtype=int)\n",
    "\n",
    "X_test = np.array(df_test[X_cols].values, dtype=float)\n",
    "y_test = np.array(df_test[y_col].values, dtype=int)"
   ]
  },
  {
   "cell_type": "code",
   "execution_count": 6,
   "metadata": {},
   "outputs": [],
   "source": [
    "def get_classifier(c_type, max_depth=2):\n",
    "    match c_type.lower():\n",
    "        case \"mlp\":\n",
    "            classifier = MLPClassifier()\n",
    "        case \"rf\":\n",
    "            classifier = RandomForestClassifier(max_depth=max_depth)\n",
    "        case \"nc\":\n",
    "            classifier = NearestCentroid()\n",
    "        case other:\n",
    "            raise NotImplemented\n",
    "        \n",
    "    classifier.fit(X_train, y_train)\n",
    "    return classifier\n",
    "\n",
    "def get_preds(c_type, max_depth=2, n=n):\n",
    "    preds = []\n",
    "    for _ in trange(n, desc=c_type):\n",
    "        classifier = get_classifier(c_type, max_depth)\n",
    "        y_pred = classifier.predict(X_test)\n",
    "        preds.append(y_pred)\n",
    "    return preds"
   ]
  },
  {
   "cell_type": "code",
   "execution_count": 7,
   "metadata": {},
   "outputs": [
    {
     "name": "stderr",
     "output_type": "stream",
     "text": [
      "nc: 100%|██████████| 40/40 [00:01<00:00, 31.87it/s]\n",
      "mlp: 100%|██████████| 40/40 [05:13<00:00,  7.83s/it]\n",
      "rf: 100%|██████████| 40/40 [01:51<00:00,  2.80s/it]\n",
      "rf: 100%|██████████| 40/40 [01:02<00:00,  1.56s/it]"
     ]
    },
    {
     "name": "stdout",
     "output_type": "stream",
     "text": [
      "Done!\n"
     ]
    },
    {
     "name": "stderr",
     "output_type": "stream",
     "text": [
      "\n"
     ]
    }
   ],
   "source": [
    "c_preds = {\n",
    "    \"NC\"   : get_preds(\"nc\"),\n",
    "    \"MLP\" : get_preds(\"mlp\"),\n",
    "    \"RF-4\"  : get_preds(\"rf\", max_depth=4),\n",
    "    \"RF-2\"  : get_preds(\"rf\", max_depth=2),\n",
    "}\n",
    "\n",
    "print(\"Done!\")"
   ]
  },
  {
   "cell_type": "code",
   "execution_count": 8,
   "metadata": {},
   "outputs": [
    {
     "name": "stderr",
     "output_type": "stream",
     "text": [
      "100%|██████████| 40/40 [00:00<00:00, 147.79it/s]\n"
     ]
    },
    {
     "data": {
      "text/html": [
       "<div>\n",
       "<style scoped>\n",
       "    .dataframe tbody tr th:only-of-type {\n",
       "        vertical-align: middle;\n",
       "    }\n",
       "\n",
       "    .dataframe tbody tr th {\n",
       "        vertical-align: top;\n",
       "    }\n",
       "\n",
       "    .dataframe thead th {\n",
       "        text-align: right;\n",
       "    }\n",
       "</style>\n",
       "<table border=\"1\" class=\"dataframe\">\n",
       "  <thead>\n",
       "    <tr style=\"text-align: right;\">\n",
       "      <th></th>\n",
       "      <th>NC</th>\n",
       "      <th>MLP</th>\n",
       "      <th>RF-4</th>\n",
       "      <th>RF-2</th>\n",
       "      <th>label</th>\n",
       "      <th>classifier_n</th>\n",
       "    </tr>\n",
       "  </thead>\n",
       "  <tbody>\n",
       "    <tr>\n",
       "      <th>0</th>\n",
       "      <td>1.0</td>\n",
       "      <td>1.0</td>\n",
       "      <td>0.916667</td>\n",
       "      <td>0.867647</td>\n",
       "      <td>bone_marrow_-_hematopoietic_cells_2</td>\n",
       "      <td>39</td>\n",
       "    </tr>\n",
       "    <tr>\n",
       "      <th>1</th>\n",
       "      <td>1.0</td>\n",
       "      <td>1.0</td>\n",
       "      <td>1.000000</td>\n",
       "      <td>0.985294</td>\n",
       "      <td>breast_-_adipocytes_2</td>\n",
       "      <td>39</td>\n",
       "    </tr>\n",
       "    <tr>\n",
       "      <th>2</th>\n",
       "      <td>1.0</td>\n",
       "      <td>1.0</td>\n",
       "      <td>0.970588</td>\n",
       "      <td>0.911765</td>\n",
       "      <td>breast_-_myoepithelial_cells_2</td>\n",
       "      <td>39</td>\n",
       "    </tr>\n",
       "    <tr>\n",
       "      <th>3</th>\n",
       "      <td>1.0</td>\n",
       "      <td>1.0</td>\n",
       "      <td>0.921569</td>\n",
       "      <td>0.720588</td>\n",
       "      <td>bronchus_-_respiratory_epithelial_cells_2</td>\n",
       "      <td>39</td>\n",
       "    </tr>\n",
       "    <tr>\n",
       "      <th>4</th>\n",
       "      <td>1.0</td>\n",
       "      <td>1.0</td>\n",
       "      <td>1.000000</td>\n",
       "      <td>1.000000</td>\n",
       "      <td>cerebellum_-_cells_in_molecular_layer_2</td>\n",
       "      <td>39</td>\n",
       "    </tr>\n",
       "    <tr>\n",
       "      <th>...</th>\n",
       "      <td>...</td>\n",
       "      <td>...</td>\n",
       "      <td>...</td>\n",
       "      <td>...</td>\n",
       "      <td>...</td>\n",
       "      <td>...</td>\n",
       "    </tr>\n",
       "    <tr>\n",
       "      <th>1595</th>\n",
       "      <td>1.0</td>\n",
       "      <td>1.0</td>\n",
       "      <td>0.985294</td>\n",
       "      <td>0.975490</td>\n",
       "      <td>urinary_bladder_-_urothelial_cells_2</td>\n",
       "      <td>39</td>\n",
       "    </tr>\n",
       "    <tr>\n",
       "      <th>1596</th>\n",
       "      <td>1.0</td>\n",
       "      <td>1.0</td>\n",
       "      <td>0.985294</td>\n",
       "      <td>0.960784</td>\n",
       "      <td>uterus,_post-menopause_-_glandular_cells_2</td>\n",
       "      <td>39</td>\n",
       "    </tr>\n",
       "    <tr>\n",
       "      <th>1597</th>\n",
       "      <td>1.0</td>\n",
       "      <td>1.0</td>\n",
       "      <td>0.931373</td>\n",
       "      <td>0.931373</td>\n",
       "      <td>uterus,_pre-menopause_-_glandular_cells_2</td>\n",
       "      <td>39</td>\n",
       "    </tr>\n",
       "    <tr>\n",
       "      <th>1598</th>\n",
       "      <td>1.0</td>\n",
       "      <td>1.0</td>\n",
       "      <td>0.980392</td>\n",
       "      <td>0.906863</td>\n",
       "      <td>vagina_-_squamous_epithelial_cells_2</td>\n",
       "      <td>39</td>\n",
       "    </tr>\n",
       "    <tr>\n",
       "      <th>1599</th>\n",
       "      <td>1.0</td>\n",
       "      <td>1.0</td>\n",
       "      <td>0.960784</td>\n",
       "      <td>0.965686</td>\n",
       "      <td>vulva-anal_skin_-_epidermal_cells_2</td>\n",
       "      <td>39</td>\n",
       "    </tr>\n",
       "  </tbody>\n",
       "</table>\n",
       "<p>1600 rows × 6 columns</p>\n",
       "</div>"
      ],
      "text/plain": [
       "       NC  MLP      RF-4      RF-2  \\\n",
       "0     1.0  1.0  0.916667  0.867647   \n",
       "1     1.0  1.0  1.000000  0.985294   \n",
       "2     1.0  1.0  0.970588  0.911765   \n",
       "3     1.0  1.0  0.921569  0.720588   \n",
       "4     1.0  1.0  1.000000  1.000000   \n",
       "...   ...  ...       ...       ...   \n",
       "1595  1.0  1.0  0.985294  0.975490   \n",
       "1596  1.0  1.0  0.985294  0.960784   \n",
       "1597  1.0  1.0  0.931373  0.931373   \n",
       "1598  1.0  1.0  0.980392  0.906863   \n",
       "1599  1.0  1.0  0.960784  0.965686   \n",
       "\n",
       "                                           label  classifier_n  \n",
       "0            bone_marrow_-_hematopoietic_cells_2            39  \n",
       "1                          breast_-_adipocytes_2            39  \n",
       "2                 breast_-_myoepithelial_cells_2            39  \n",
       "3      bronchus_-_respiratory_epithelial_cells_2            39  \n",
       "4        cerebellum_-_cells_in_molecular_layer_2            39  \n",
       "...                                          ...           ...  \n",
       "1595        urinary_bladder_-_urothelial_cells_2            39  \n",
       "1596  uterus,_post-menopause_-_glandular_cells_2            39  \n",
       "1597   uterus,_pre-menopause_-_glandular_cells_2            39  \n",
       "1598        vagina_-_squamous_epithelial_cells_2            39  \n",
       "1599         vulva-anal_skin_-_epidermal_cells_2            39  \n",
       "\n",
       "[1600 rows x 6 columns]"
      ]
     },
     "execution_count": 8,
     "metadata": {},
     "output_type": "execute_result"
    }
   ],
   "source": [
    "acc_data = {\n",
    "    c : []\n",
    "    for c in c_preds\n",
    "}\n",
    "acc_data['label'] = []\n",
    "acc_data['classifier_n'] = []\n",
    "\n",
    "for i in trange(n):\n",
    "    for label in labels:\n",
    "        index = df_test['label'].values == label\n",
    "\n",
    "        for c in c_preds:\n",
    "            acc_data[c].append(np.mean(np.array(c_preds[c][i][index]) == y_test[index]))\n",
    "        acc_data[\"label\"].append(label)\n",
    "        acc_data[\"classifier_n\"] = i\n",
    "\n",
    "acc_df = pd.DataFrame(acc_data)\n",
    "acc_df"
   ]
  },
  {
   "cell_type": "code",
   "execution_count": 9,
   "metadata": {},
   "outputs": [],
   "source": [
    "acc_df.to_csv(save_path, index=False)"
   ]
  },
  {
   "cell_type": "code",
   "execution_count": 10,
   "metadata": {},
   "outputs": [
    {
     "name": "stdout",
     "output_type": "stream",
     "text": [
      "['bone_marrow_-_hematopoietic_cells_2', 'breast_-_adipocytes_2', 'breast_-_myoepithelial_cells_2', 'bronchus_-_respiratory_epithelial_cells_2', 'cerebellum_-_cells_in_molecular_layer_2', 'cerebral_cortex_-_neuropil_2', 'cervix,_uterine_-_glandular_cells_2', 'colon_-_peripheral_nerve-ganglion_2', 'esophagus_-_squamous_epithelial_cells_2', 'fallopian_tube_-_glandular_cells_2', 'gallbladder_-_glandular_cells_2', 'heart_muscle_-_myocytes_2', 'hippocampus_-_glial_cells_2', 'kidney_-_cells_in_glomeruli_2', 'kidney_-_cells_in_tubules_2', 'lateral_ventricle_-_glial_cells_2', 'lateral_ventricle_-_neuronal_cells_2', 'liver_-_hepatocytes_2', 'lung_-_pneumocytes_2', 'nasopharynx_-_respiratory_epithelial_cells_2', 'ovary_-_follicle_cells_2', 'ovary_-_ovarian_stroma_cells_2', 'rectum_-_glandular_cells_2', 'salivary_gland_-_glandular_cells_2', 'seminal_vesicle_-_glandular_cells_2', 'skin_-_melanocytes_2', 'small_intestine_-_glandular_cells_2', 'soft_tissue_2_-_adipocytes_2', 'soft_tissue_2_-_fibroblasts_2', 'spleen_-_cells_in_white_pulp_2', 'stomach,_lower_-_glandular_cells_2', 'stomach,_upper_-_glandular_cells_2', 'tonsil_-_germinal_center_cells_2', 'tonsil_-_non-germinal_center_cells_2', 'tonsil_-_squamous_epithelial_cells_2', 'urinary_bladder_-_urothelial_cells_2', 'uterus,_post-menopause_-_glandular_cells_2', 'uterus,_pre-menopause_-_glandular_cells_2', 'vagina_-_squamous_epithelial_cells_2', 'vulva-anal_skin_-_epidermal_cells_2']\n"
     ]
    }
   ],
   "source": [
    "print(labels)"
   ]
  },
  {
   "cell_type": "code",
   "execution_count": null,
   "metadata": {},
   "outputs": [],
   "source": []
  }
 ],
 "metadata": {
  "kernelspec": {
   "display_name": "venv",
   "language": "python",
   "name": "python3"
  },
  "language_info": {
   "codemirror_mode": {
    "name": "ipython",
    "version": 3
   },
   "file_extension": ".py",
   "mimetype": "text/x-python",
   "name": "python",
   "nbconvert_exporter": "python",
   "pygments_lexer": "ipython3",
   "version": "3.10.12"
  }
 },
 "nbformat": 4,
 "nbformat_minor": 2
}
