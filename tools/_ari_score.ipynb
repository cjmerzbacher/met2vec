{
 "cells": [
  {
   "cell_type": "code",
   "execution_count": 9,
   "metadata": {},
   "outputs": [],
   "source": [
    "import pandas as pd\n",
    "import matplotlib.pyplot as plt\n",
    "import numpy as np"
   ]
  },
  {
   "cell_type": "code",
   "execution_count": 10,
   "metadata": {},
   "outputs": [
    {
     "data": {
      "text/html": [
       "<div>\n",
       "<style scoped>\n",
       "    .dataframe tbody tr th:only-of-type {\n",
       "        vertical-align: middle;\n",
       "    }\n",
       "\n",
       "    .dataframe tbody tr th {\n",
       "        vertical-align: top;\n",
       "    }\n",
       "\n",
       "    .dataframe thead th {\n",
       "        text-align: right;\n",
       "    }\n",
       "</style>\n",
       "<table border=\"1\" class=\"dataframe\">\n",
       "  <thead>\n",
       "    <tr style=\"text-align: right;\">\n",
       "      <th></th>\n",
       "      <th>pre</th>\n",
       "      <th>pre_std</th>\n",
       "      <th>emb</th>\n",
       "      <th>emb_std</th>\n",
       "      <th>rec</th>\n",
       "      <th>rec_std</th>\n",
       "      <th>origional</th>\n",
       "      <th>origional_std</th>\n",
       "      <th>stage</th>\n",
       "    </tr>\n",
       "  </thead>\n",
       "  <tbody>\n",
       "    <tr>\n",
       "      <th>0</th>\n",
       "      <td>0.831656</td>\n",
       "      <td>0.064479</td>\n",
       "      <td>0.238553</td>\n",
       "      <td>0.012937</td>\n",
       "      <td>0.148033</td>\n",
       "      <td>0.008677</td>\n",
       "      <td>0.887914</td>\n",
       "      <td>0.050938</td>\n",
       "      <td>pre</td>\n",
       "    </tr>\n",
       "    <tr>\n",
       "      <th>1</th>\n",
       "      <td>0.237935</td>\n",
       "      <td>0.012585</td>\n",
       "      <td>0.593725</td>\n",
       "      <td>0.064185</td>\n",
       "      <td>0.183645</td>\n",
       "      <td>0.007002</td>\n",
       "      <td>0.254829</td>\n",
       "      <td>0.007499</td>\n",
       "      <td>emb</td>\n",
       "    </tr>\n",
       "    <tr>\n",
       "      <th>2</th>\n",
       "      <td>0.147295</td>\n",
       "      <td>0.008047</td>\n",
       "      <td>0.182024</td>\n",
       "      <td>0.007001</td>\n",
       "      <td>0.650371</td>\n",
       "      <td>0.091159</td>\n",
       "      <td>0.159644</td>\n",
       "      <td>0.004595</td>\n",
       "      <td>rec</td>\n",
       "    </tr>\n",
       "    <tr>\n",
       "      <th>3</th>\n",
       "      <td>0.896037</td>\n",
       "      <td>0.052616</td>\n",
       "      <td>0.253839</td>\n",
       "      <td>0.007423</td>\n",
       "      <td>0.159327</td>\n",
       "      <td>0.004865</td>\n",
       "      <td>1.000000</td>\n",
       "      <td>0.000000</td>\n",
       "      <td>origional</td>\n",
       "    </tr>\n",
       "  </tbody>\n",
       "</table>\n",
       "</div>"
      ],
      "text/plain": [
       "        pre   pre_std       emb   emb_std       rec   rec_std  origional  \\\n",
       "0  0.831656  0.064479  0.238553  0.012937  0.148033  0.008677   0.887914   \n",
       "1  0.237935  0.012585  0.593725  0.064185  0.183645  0.007002   0.254829   \n",
       "2  0.147295  0.008047  0.182024  0.007001  0.650371  0.091159   0.159644   \n",
       "3  0.896037  0.052616  0.253839  0.007423  0.159327  0.004865   1.000000   \n",
       "\n",
       "   origional_std      stage  \n",
       "0       0.050938        pre  \n",
       "1       0.007499        emb  \n",
       "2       0.004595        rec  \n",
       "3       0.000000  origional  "
      ]
     },
     "execution_count": 10,
     "metadata": {},
     "output_type": "execute_result"
    }
   ],
   "source": [
    "df = pd.read_csv(\"../data/plot_data/human_cells/ari_kmeans.csv\")\n",
    "df"
   ]
  },
  {
   "cell_type": "code",
   "execution_count": 11,
   "metadata": {},
   "outputs": [
    {
     "data": {
      "text/plain": [
       "[<matplotlib.axis.YTick at 0x1ffa3eb0990>,\n",
       " <matplotlib.axis.YTick at 0x1ffa3e9f950>,\n",
       " <matplotlib.axis.YTick at 0x1ffa3eb7b50>,\n",
       " <matplotlib.axis.YTick at 0x1ffa3ed7390>]"
      ]
     },
     "execution_count": 11,
     "metadata": {},
     "output_type": "execute_result"
    },
    {
     "data": {
      "image/png": "[encoded data removed]",
      "text/plain": [
       "<Figure size 640x480 with 1 Axes>"
      ]
     },
     "metadata": {},
     "output_type": "display_data"
    }
   ],
   "source": [
    "data = np.zeros((4, 4))\n",
    "\n",
    "columns_order = ['pre', 'emb', 'rec', 'origional']\n",
    "data = df[columns_order] \n",
    "\n",
    "fig, ax = plt.subplots(1, 1)\n",
    "\n",
    "ax.imshow(data)\n",
    "ax.set_xticks(range(4), columns_order)\n",
    "ax.set_yticks(range(len(df)), df['stage'])"
   ]
  },
  {
   "cell_type": "code",
   "execution_count": null,
   "metadata": {},
   "outputs": [],
   "source": []
  }
 ],
 "metadata": {
  "kernelspec": {
   "display_name": "venv",
   "language": "python",
   "name": "python3"
  },
  "language_info": {
   "codemirror_mode": {
    "name": "ipython",
    "version": 3
   },
   "file_extension": ".py",
   "mimetype": "text/x-python",
   "name": "python",
   "nbconvert_exporter": "python",
   "pygments_lexer": "ipython3",
   "version": "3.11.2"
  }
 },
 "nbformat": 4,
 "nbformat_minor": 2
}
